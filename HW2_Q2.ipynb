{
 "cells": [
  {
   "cell_type": "markdown",
   "metadata": {},
   "source": [
    "1. Load the dataset.\n",
    "2. Trim the unwanted columns to perform pca and for clustering.  \n",
    "3. Scale, Fit , Transform the data before PCA.\n",
    "4. Calculate PCA and Variance for n components, here n = (1,2,3,4).\n",
    "5. kmeans is performed over Projected data.\n",
    "6. Silhoutte score is calculated using the parameters : Projected data and Kmeans labels.\n",
    "7. Adjusted Rand index Score is calculated using the parameters: Labels and Kmeans labels.\n",
    "    Note: Labels are given to each group in 'target'.\n",
    "    "
   ]
  },
  {
   "cell_type": "markdown",
   "metadata": {},
   "source": [
    "CODE"
   ]
  },
  {
   "cell_type": "code",
   "execution_count": 17,
   "metadata": {},
   "outputs": [],
   "source": [
    "import pandas as pd\n",
    "from sklearn.preprocessing import StandardScaler\n",
    "import matplotlib.pyplot as plt\n",
    "from scipy import stats\n",
    "import seaborn\n",
    "from sklearn.decomposition import PCA\n",
    "from sklearn.preprocessing import scale\n",
    "from sklearn.cluster import KMeans\n",
    "from sklearn.metrics import silhouette_score, adjusted_rand_score"
   ]
  },
  {
   "cell_type": "code",
   "execution_count": 18,
   "metadata": {},
   "outputs": [
    {
     "data": {
      "text/html": [
       "<div>\n",
       "<style scoped>\n",
       "    .dataframe tbody tr th:only-of-type {\n",
       "        vertical-align: middle;\n",
       "    }\n",
       "\n",
       "    .dataframe tbody tr th {\n",
       "        vertical-align: top;\n",
       "    }\n",
       "\n",
       "    .dataframe thead th {\n",
       "        text-align: right;\n",
       "    }\n",
       "</style>\n",
       "<table border=\"1\" class=\"dataframe\">\n",
       "  <thead>\n",
       "    <tr style=\"text-align: right;\">\n",
       "      <th></th>\n",
       "      <th>sepal length</th>\n",
       "      <th>sepal width</th>\n",
       "      <th>petal length</th>\n",
       "      <th>petal width</th>\n",
       "      <th>target</th>\n",
       "    </tr>\n",
       "  </thead>\n",
       "  <tbody>\n",
       "    <tr>\n",
       "      <th>0</th>\n",
       "      <td>5.1</td>\n",
       "      <td>3.5</td>\n",
       "      <td>1.4</td>\n",
       "      <td>0.2</td>\n",
       "      <td>Iris-setosa</td>\n",
       "    </tr>\n",
       "    <tr>\n",
       "      <th>1</th>\n",
       "      <td>4.9</td>\n",
       "      <td>3.0</td>\n",
       "      <td>1.4</td>\n",
       "      <td>0.2</td>\n",
       "      <td>Iris-setosa</td>\n",
       "    </tr>\n",
       "    <tr>\n",
       "      <th>2</th>\n",
       "      <td>4.7</td>\n",
       "      <td>3.2</td>\n",
       "      <td>1.3</td>\n",
       "      <td>0.2</td>\n",
       "      <td>Iris-setosa</td>\n",
       "    </tr>\n",
       "    <tr>\n",
       "      <th>3</th>\n",
       "      <td>4.6</td>\n",
       "      <td>3.1</td>\n",
       "      <td>1.5</td>\n",
       "      <td>0.2</td>\n",
       "      <td>Iris-setosa</td>\n",
       "    </tr>\n",
       "    <tr>\n",
       "      <th>4</th>\n",
       "      <td>5.0</td>\n",
       "      <td>3.6</td>\n",
       "      <td>1.4</td>\n",
       "      <td>0.2</td>\n",
       "      <td>Iris-setosa</td>\n",
       "    </tr>\n",
       "    <tr>\n",
       "      <th>...</th>\n",
       "      <td>...</td>\n",
       "      <td>...</td>\n",
       "      <td>...</td>\n",
       "      <td>...</td>\n",
       "      <td>...</td>\n",
       "    </tr>\n",
       "    <tr>\n",
       "      <th>145</th>\n",
       "      <td>6.7</td>\n",
       "      <td>3.0</td>\n",
       "      <td>5.2</td>\n",
       "      <td>2.3</td>\n",
       "      <td>Iris-virginica</td>\n",
       "    </tr>\n",
       "    <tr>\n",
       "      <th>146</th>\n",
       "      <td>6.3</td>\n",
       "      <td>2.5</td>\n",
       "      <td>5.0</td>\n",
       "      <td>1.9</td>\n",
       "      <td>Iris-virginica</td>\n",
       "    </tr>\n",
       "    <tr>\n",
       "      <th>147</th>\n",
       "      <td>6.5</td>\n",
       "      <td>3.0</td>\n",
       "      <td>5.2</td>\n",
       "      <td>2.0</td>\n",
       "      <td>Iris-virginica</td>\n",
       "    </tr>\n",
       "    <tr>\n",
       "      <th>148</th>\n",
       "      <td>6.2</td>\n",
       "      <td>3.4</td>\n",
       "      <td>5.4</td>\n",
       "      <td>2.3</td>\n",
       "      <td>Iris-virginica</td>\n",
       "    </tr>\n",
       "    <tr>\n",
       "      <th>149</th>\n",
       "      <td>5.9</td>\n",
       "      <td>3.0</td>\n",
       "      <td>5.1</td>\n",
       "      <td>1.8</td>\n",
       "      <td>Iris-virginica</td>\n",
       "    </tr>\n",
       "  </tbody>\n",
       "</table>\n",
       "<p>150 rows × 5 columns</p>\n",
       "</div>"
      ],
      "text/plain": [
       "     sepal length  sepal width  petal length  petal width          target\n",
       "0             5.1          3.5           1.4          0.2     Iris-setosa\n",
       "1             4.9          3.0           1.4          0.2     Iris-setosa\n",
       "2             4.7          3.2           1.3          0.2     Iris-setosa\n",
       "3             4.6          3.1           1.5          0.2     Iris-setosa\n",
       "4             5.0          3.6           1.4          0.2     Iris-setosa\n",
       "..            ...          ...           ...          ...             ...\n",
       "145           6.7          3.0           5.2          2.3  Iris-virginica\n",
       "146           6.3          2.5           5.0          1.9  Iris-virginica\n",
       "147           6.5          3.0           5.2          2.0  Iris-virginica\n",
       "148           6.2          3.4           5.4          2.3  Iris-virginica\n",
       "149           5.9          3.0           5.1          1.8  Iris-virginica\n",
       "\n",
       "[150 rows x 5 columns]"
      ]
     },
     "execution_count": 18,
     "metadata": {},
     "output_type": "execute_result"
    }
   ],
   "source": [
    "sscore = []\n",
    "ariscore = []\n",
    "df=pd.read_csv('iris.csv')\n",
    "df = pd.read_csv('iris.csv', names=['sepal length','sepal width','petal length','petal width','target'])\n",
    "df"
   ]
  },
  {
   "cell_type": "code",
   "execution_count": 19,
   "metadata": {},
   "outputs": [],
   "source": [
    "df1 = df.drop(['target'],axis =1)\n",
    "label = df['target']"
   ]
  },
  {
   "cell_type": "markdown",
   "metadata": {},
   "source": [
    "PCA in conjunction with k-means is a powerful method for visualizing high dimensional data."
   ]
  },
  {
   "cell_type": "markdown",
   "metadata": {},
   "source": [
    "1.Reduce Dimensionality"
   ]
  },
  {
   "cell_type": "code",
   "execution_count": 20,
   "metadata": {},
   "outputs": [],
   "source": [
    "X_std = StandardScaler().fit_transform(df1)#scale, fit, transform  the data "
   ]
  },
  {
   "cell_type": "markdown",
   "metadata": {},
   "source": [
    "USING 1 COMPONENT"
   ]
  },
  {
   "cell_type": "code",
   "execution_count": 42,
   "metadata": {},
   "outputs": [
    {
     "data": {
      "image/png": "[encoded data removed]",
      "text/plain": [
       "<Figure size 432x288 with 1 Axes>"
      ]
     },
     "metadata": {
      "needs_background": "light"
     },
     "output_type": "display_data"
    }
   ],
   "source": [
    "pca1 = PCA(n_components=1)# calculating the pca\n",
    "principalComponents1 = pca1.fit_transform(X_std)# projecting the data \n",
    "features = range(pca1.n_components_)\n",
    "plt.bar([1], pca1.explained_variance_ratio_, color='black')\n",
    "plt.xlabel('PCA features')\n",
    "plt.ylabel('variance %')\n",
    "plt.xticks(features)\n",
    "PCA_components1 = pd.DataFrame(principalComponents1)\n"
   ]
  },
  {
   "cell_type": "code",
   "execution_count": 22,
   "metadata": {},
   "outputs": [
    {
     "name": "stdout",
     "output_type": "stream",
     "text": [
      "Silhoutte score is 0.6754183875905303\n",
      "Adjusted rand index is 0.8015498244339507\n"
     ]
    }
   ],
   "source": [
    "kmeans1 = KMeans(n_clusters=3)\n",
    "#print(kmeans.labels_)\n",
    "kmeans1.fit(PCA_components1)\n",
    "#print(kmeans.labels_)\n",
    "score1 = silhouette_score(PCA_components1,kmeans1.labels_)\n",
    "print('Silhoutte score is', score1)\n",
    "labels1 = pd.factorize(label)[0]\n",
    "len(kmeans1.labels_)\n",
    "ari1 = adjusted_rand_score(labels1,kmeans1.labels_)\n",
    "print('Adjusted rand index is', ari1)\n",
    "#pca 1 component\n",
    "sscore.append(score1)\n",
    "ariscore.append(ari1)"
   ]
  },
  {
   "cell_type": "markdown",
   "metadata": {},
   "source": [
    "USING 2 COMPONENTS"
   ]
  },
  {
   "cell_type": "code",
   "execution_count": 39,
   "metadata": {},
   "outputs": [
    {
     "data": {
      "image/png": "[encoded data removed]",
      "text/plain": [
       "<Figure size 432x288 with 1 Axes>"
      ]
     },
     "metadata": {
      "needs_background": "light"
     },
     "output_type": "display_data"
    }
   ],
   "source": [
    "pca2 = PCA(n_components=2)\n",
    "principalComponents2 = pca2.fit_transform(X_std)\n",
    "features = range(pca2.n_components_)\n",
    "plt.bar([1,2], pca2.explained_variance_ratio_, color='black')\n",
    "plt.xlabel('PCA features')\n",
    "plt.ylabel('variance %')\n",
    "plt.xticks(features)\n",
    "PCA_components2 = pd.DataFrame(principalComponents2)"
   ]
  },
  {
   "cell_type": "code",
   "execution_count": 24,
   "metadata": {},
   "outputs": [
    {
     "name": "stdout",
     "output_type": "stream",
     "text": [
      "Silhoutte score is 0.5113245176460453\n",
      "Adjusted rand index is 0.6011286543750637\n"
     ]
    }
   ],
   "source": [
    "kmeans2 = KMeans(n_clusters=3)\n",
    "kmeans2.fit(PCA_components2)\n",
    "score2 = silhouette_score(PCA_components2,kmeans2.labels_)\n",
    "print('Silhoutte score is', score2)\n",
    "labels2 = pd.factorize(label)[0]\n",
    "len(kmeans2.labels_)\n",
    "ari2 = adjusted_rand_score(labels2, kmeans2.labels_)\n",
    "print('Adjusted rand index is', ari2)\n",
    "#pca 2 components\n",
    "sscore.append(score2)\n",
    "ariscore.append(ari2)"
   ]
  },
  {
   "cell_type": "markdown",
   "metadata": {},
   "source": [
    "USING 3 COMPONENTS"
   ]
  },
  {
   "cell_type": "code",
   "execution_count": 36,
   "metadata": {},
   "outputs": [
    {
     "name": "stdout",
     "output_type": "stream",
     "text": [
      "<class 'numpy.ndarray'>\n"
     ]
    },
    {
     "data": {
      "image/png": "[encoded data removed]",
      "text/plain": [
       "<Figure size 432x288 with 1 Axes>"
      ]
     },
     "metadata": {
      "needs_background": "light"
     },
     "output_type": "display_data"
    }
   ],
   "source": [
    "pca3 = PCA(n_components=3)\n",
    "principalComponents3 = pca3.fit_transform(X_std)\n",
    "features = range(pca3.n_components_)\n",
    "plt.bar([1, 2, 3], pca3.explained_variance_ratio_, color='black')\n",
    "plt.xlabel('PCA features')\n",
    "plt.ylabel('variance %')\n",
    "plt.xticks(features)\n",
    "PCA_components3 = pd.DataFrame(principalComponents3)\n",
    "print(type(principalComponents3))"
   ]
  },
  {
   "cell_type": "code",
   "execution_count": 26,
   "metadata": {},
   "outputs": [
    {
     "name": "stdout",
     "output_type": "stream",
     "text": [
      "Silhoutte score is 0.46613062910381436\n",
      "Adjusted rand index is 0.6201351808870379\n"
     ]
    }
   ],
   "source": [
    "\n",
    "kmeans3 = KMeans(n_clusters=3)\n",
    "kmeans3.fit(PCA_components3)\n",
    "score3 = silhouette_score(PCA_components3,kmeans3.labels_)\n",
    "\n",
    "print('Silhoutte score is', score3)\n",
    "labels3 = pd.factorize(label)[0]\n",
    "ari3 = adjusted_rand_score(labels3, kmeans3.labels_)\n",
    "print('Adjusted rand index is', ari3)\n",
    "#pca 3 components\n",
    "sscore.append(score3)\n",
    "ariscore.append(ari3)"
   ]
  },
  {
   "cell_type": "markdown",
   "metadata": {},
   "source": [
    "USING 4 COMPONENTS"
   ]
  },
  {
   "cell_type": "code",
   "execution_count": 33,
   "metadata": {},
   "outputs": [
    {
     "data": {
      "image/png": "[encoded data removed]",
      "text/plain": [
       "<Figure size 432x288 with 1 Axes>"
      ]
     },
     "metadata": {
      "needs_background": "light"
     },
     "output_type": "display_data"
    }
   ],
   "source": [
    "pca4 = PCA(n_components=4)\n",
    "principalComponents4 = pca4.fit_transform(X_std)\n",
    "features = range(pca4.n_components_)\n",
    "plt.bar([1, 2, 3, 4], pca4.explained_variance_ratio_, color='black')\n",
    "plt.xlabel('PCA features')\n",
    "plt.ylabel('variance %')\n",
    "plt.xticks(features)\n",
    "PCA_components4 = pd.DataFrame(principalComponents4)"
   ]
  },
  {
   "cell_type": "code",
   "execution_count": 28,
   "metadata": {},
   "outputs": [
    {
     "name": "stdout",
     "output_type": "stream",
     "text": [
      "Silhoutte score is 0.45937792074496625\n",
      "Adjusted rand index is 0.6100728505285608\n"
     ]
    }
   ],
   "source": [
    "\n",
    "kmeans4 = KMeans(n_clusters=3)\n",
    "kmeans4.fit(PCA_components4)\n",
    "score4 = silhouette_score(X_std, kmeans4.labels_)\n",
    "print('Silhoutte score is', score4)\n",
    "labels4 = pd.factorize(label)[0]\n",
    "len(kmeans4.labels_)\n",
    "ari4 = adjusted_rand_score(labels4, kmeans4.labels_)\n",
    "print('Adjusted rand index is', ari4)\n",
    "#PCA 4 components\n",
    "sscore.append(score4)\n",
    "ariscore.append(ari4)"
   ]
  },
  {
   "cell_type": "code",
   "execution_count": 29,
   "metadata": {},
   "outputs": [
    {
     "name": "stdout",
     "output_type": "stream",
     "text": [
      "Silhoutte scores:\n",
      " [0.6754183875905303, 0.5113245176460453, 0.46613062910381436, 0.45937792074496625]\n"
     ]
    }
   ],
   "source": [
    "print(\"Silhoutte scores:\\n\",sscore)"
   ]
  },
  {
   "cell_type": "code",
   "execution_count": 30,
   "metadata": {},
   "outputs": [
    {
     "name": "stdout",
     "output_type": "stream",
     "text": [
      "Adjusted rand index score:\n",
      " [0.8015498244339507, 0.6011286543750637, 0.6201351808870379, 0.6100728505285608]\n"
     ]
    }
   ],
   "source": [
    "print(\"Adjusted rand index score:\\n\",ariscore)"
   ]
  },
  {
   "cell_type": "code",
   "execution_count": 31,
   "metadata": {},
   "outputs": [
    {
     "data": {
      "text/plain": [
       "<matplotlib.legend.Legend at 0x23144079fc8>"
      ]
     },
     "execution_count": 31,
     "metadata": {},
     "output_type": "execute_result"
    },
    {
     "data": {
      "image/png": "[encoded data removed]",
      "text/plain": [
       "<Figure size 432x288 with 1 Axes>"
      ]
     },
     "metadata": {
      "needs_background": "light"
     },
     "output_type": "display_data"
    }
   ],
   "source": [
    "import numpy as np\n",
    "plt.xlabel('Number of components')\n",
    "plt.xticks(np.arange(1, 5)) #change from 0-based array index to 1-based human-readable label\n",
    "plt.ylabel('score')\n",
    "plt.plot([1, 2, 3, 4],sscore,label ='sil score')\n",
    "plt.plot([1, 2, 3, 4],ariscore,label = 'ari')\n",
    "\n",
    "plt.legend()"
   ]
  },
  {
   "cell_type": "markdown",
   "metadata": {},
   "source": [
    "Comments: Silhoutte score is decreasing with the number of components linearly,The best number of components is 1 with respect to Silhoutte score calculated for different components.   "
   ]
  },
  {
   "cell_type": "markdown",
   "metadata": {},
   "source": [
    "Comments: ARI is high for less number of components, Therefore since Rand index is related to the accuracy, The best number of components is 1 with respect to adjusted rand index."
   ]
  },
  {
   "cell_type": "code",
   "execution_count": null,
   "metadata": {},
   "outputs": [],
   "source": []
  }
 ],
 "metadata": {
  "kernelspec": {
   "display_name": "Python 3",
   "language": "python",
   "name": "python3"
  },
  "language_info": {
   "codemirror_mode": {
    "name": "ipython",
    "version": 3
   },
   "file_extension": ".py",
   "mimetype": "text/x-python",
   "name": "python",
   "nbconvert_exporter": "python",
   "pygments_lexer": "ipython3",
   "version": "3.7.6"
  }
 },
 "nbformat": 4,
 "nbformat_minor": 4
}
